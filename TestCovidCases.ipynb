{
 "cells": [
  {
   "cell_type": "markdown",
   "id": "008d693f-8102-46d5-b1ba-74100a952361",
   "metadata": {},
   "source": [
    "# Top 10 COVID-19 cases days"
   ]
  },
  {
   "cell_type": "code",
   "execution_count": 17,
   "id": "3fe3e3ff-8dee-4f08-9c9f-c04d0f53ca29",
   "metadata": {},
   "outputs": [],
   "source": [
    "import pandas as pd\n",
    "import numpy as np\n",
    "import matplotlib.pyplot as plt\n",
    "import io\n",
    "import requests"
   ]
  },
  {
   "cell_type": "code",
   "execution_count": 7,
   "id": "6527e247-2e2c-4acc-96a8-9b03c2250aa8",
   "metadata": {},
   "outputs": [],
   "source": [
    "'''Fetching the data from the raw file in Github'''\n",
    "#Setting the URL of the raw file from the Github repository\n",
    "url = \"https://raw.githubusercontent.com/nytimes/covid-19-data/master/us.csv\"\n",
    "#Getting the data from the given URL\n",
    "content = requests.get(url).content\n",
    "#Reading the data and storing it in a dataframe in UTF-8 format\n",
    "final_df = pd.read_csv(io.StringIO(content.decode('utf-8')))"
   ]
  },
  {
   "cell_type": "code",
   "execution_count": 14,
   "id": "5a9c8d5b-4560-41ed-9632-53fd35dbb464",
   "metadata": {},
   "outputs": [
    {
     "data": {
      "text/html": [
       "<div>\n",
       "<style scoped>\n",
       "    .dataframe tbody tr th:only-of-type {\n",
       "        vertical-align: middle;\n",
       "    }\n",
       "\n",
       "    .dataframe tbody tr th {\n",
       "        vertical-align: top;\n",
       "    }\n",
       "\n",
       "    .dataframe thead th {\n",
       "        text-align: right;\n",
       "    }\n",
       "</style>\n",
       "<table border=\"1\" class=\"dataframe\">\n",
       "  <thead>\n",
       "    <tr style=\"text-align: right;\">\n",
       "      <th></th>\n",
       "      <th>date</th>\n",
       "      <th>cases</th>\n",
       "      <th>deaths</th>\n",
       "    </tr>\n",
       "  </thead>\n",
       "  <tbody>\n",
       "    <tr>\n",
       "      <th>0</th>\n",
       "      <td>2020-01-21</td>\n",
       "      <td>1</td>\n",
       "      <td>0</td>\n",
       "    </tr>\n",
       "    <tr>\n",
       "      <th>1</th>\n",
       "      <td>2020-01-22</td>\n",
       "      <td>1</td>\n",
       "      <td>0</td>\n",
       "    </tr>\n",
       "    <tr>\n",
       "      <th>2</th>\n",
       "      <td>2020-01-23</td>\n",
       "      <td>1</td>\n",
       "      <td>0</td>\n",
       "    </tr>\n",
       "    <tr>\n",
       "      <th>3</th>\n",
       "      <td>2020-01-24</td>\n",
       "      <td>2</td>\n",
       "      <td>0</td>\n",
       "    </tr>\n",
       "    <tr>\n",
       "      <th>4</th>\n",
       "      <td>2020-01-25</td>\n",
       "      <td>3</td>\n",
       "      <td>0</td>\n",
       "    </tr>\n",
       "    <tr>\n",
       "      <th>5</th>\n",
       "      <td>2020-01-26</td>\n",
       "      <td>5</td>\n",
       "      <td>0</td>\n",
       "    </tr>\n",
       "    <tr>\n",
       "      <th>6</th>\n",
       "      <td>2020-01-27</td>\n",
       "      <td>5</td>\n",
       "      <td>0</td>\n",
       "    </tr>\n",
       "    <tr>\n",
       "      <th>7</th>\n",
       "      <td>2020-01-28</td>\n",
       "      <td>5</td>\n",
       "      <td>0</td>\n",
       "    </tr>\n",
       "    <tr>\n",
       "      <th>8</th>\n",
       "      <td>2020-01-29</td>\n",
       "      <td>5</td>\n",
       "      <td>0</td>\n",
       "    </tr>\n",
       "    <tr>\n",
       "      <th>9</th>\n",
       "      <td>2020-01-30</td>\n",
       "      <td>6</td>\n",
       "      <td>0</td>\n",
       "    </tr>\n",
       "    <tr>\n",
       "      <th>10</th>\n",
       "      <td>2020-01-31</td>\n",
       "      <td>7</td>\n",
       "      <td>0</td>\n",
       "    </tr>\n",
       "    <tr>\n",
       "      <th>11</th>\n",
       "      <td>2020-02-01</td>\n",
       "      <td>8</td>\n",
       "      <td>0</td>\n",
       "    </tr>\n",
       "    <tr>\n",
       "      <th>12</th>\n",
       "      <td>2020-02-02</td>\n",
       "      <td>11</td>\n",
       "      <td>0</td>\n",
       "    </tr>\n",
       "    <tr>\n",
       "      <th>13</th>\n",
       "      <td>2020-02-03</td>\n",
       "      <td>11</td>\n",
       "      <td>0</td>\n",
       "    </tr>\n",
       "    <tr>\n",
       "      <th>14</th>\n",
       "      <td>2020-02-04</td>\n",
       "      <td>11</td>\n",
       "      <td>0</td>\n",
       "    </tr>\n",
       "    <tr>\n",
       "      <th>15</th>\n",
       "      <td>2020-02-05</td>\n",
       "      <td>12</td>\n",
       "      <td>0</td>\n",
       "    </tr>\n",
       "    <tr>\n",
       "      <th>16</th>\n",
       "      <td>2020-02-06</td>\n",
       "      <td>12</td>\n",
       "      <td>0</td>\n",
       "    </tr>\n",
       "    <tr>\n",
       "      <th>17</th>\n",
       "      <td>2020-02-07</td>\n",
       "      <td>12</td>\n",
       "      <td>0</td>\n",
       "    </tr>\n",
       "    <tr>\n",
       "      <th>18</th>\n",
       "      <td>2020-02-08</td>\n",
       "      <td>12</td>\n",
       "      <td>0</td>\n",
       "    </tr>\n",
       "    <tr>\n",
       "      <th>19</th>\n",
       "      <td>2020-02-09</td>\n",
       "      <td>12</td>\n",
       "      <td>0</td>\n",
       "    </tr>\n",
       "  </tbody>\n",
       "</table>\n",
       "</div>"
      ],
      "text/plain": [
       "          date  cases  deaths\n",
       "0   2020-01-21      1       0\n",
       "1   2020-01-22      1       0\n",
       "2   2020-01-23      1       0\n",
       "3   2020-01-24      2       0\n",
       "4   2020-01-25      3       0\n",
       "5   2020-01-26      5       0\n",
       "6   2020-01-27      5       0\n",
       "7   2020-01-28      5       0\n",
       "8   2020-01-29      5       0\n",
       "9   2020-01-30      6       0\n",
       "10  2020-01-31      7       0\n",
       "11  2020-02-01      8       0\n",
       "12  2020-02-02     11       0\n",
       "13  2020-02-03     11       0\n",
       "14  2020-02-04     11       0\n",
       "15  2020-02-05     12       0\n",
       "16  2020-02-06     12       0\n",
       "17  2020-02-07     12       0\n",
       "18  2020-02-08     12       0\n",
       "19  2020-02-09     12       0"
      ]
     },
     "execution_count": 14,
     "metadata": {},
     "output_type": "execute_result"
    }
   ],
   "source": [
    "#Getting a preview of the data\n",
    "final_df.head(20)"
   ]
  },
  {
   "cell_type": "code",
   "execution_count": 16,
   "id": "eb4340ac-4cc8-474b-8fb8-1e6ef0c5a813",
   "metadata": {},
   "outputs": [
    {
     "name": "stdout",
     "output_type": "stream",
     "text": [
      "           date     cases\n",
      "719  2022-01-09  60164525\n",
      "718  2022-01-08  59851464\n",
      "717  2022-01-07  59405224\n",
      "716  2022-01-06  58505177\n",
      "715  2022-01-05  57745959\n",
      "714  2022-01-04  57041895\n",
      "713  2022-01-03  56155989\n",
      "712  2022-01-02  55137054\n",
      "711  2022-01-01  54850417\n",
      "710  2021-12-31  54689357\n"
     ]
    }
   ],
   "source": [
    "#Selecting the columns date and cases\n",
    "final_df = final_df[['date', 'cases']]\n",
    "#Getting the top 10 days\n",
    "top_days = final_df.nlargest(10, ['cases'])\n",
    "print(top_days)"
   ]
  },
  {
   "cell_type": "code",
   "execution_count": 26,
   "id": "ed25a4be-e82a-4f62-ae91-7eed714872ee",
   "metadata": {},
   "outputs": [
    {
     "data": {
      "image/png": "[encoded data removed]",
      "text/plain": [
       "<Figure size 1440x360 with 1 Axes>"
      ]
     },
     "metadata": {
      "needs_background": "light"
     },
     "output_type": "display_data"
    }
   ],
   "source": [
    "#Creating bar plot\n",
    "fig = plt.figure(figsize = (20, 5))\n",
    "plt.bar(top_days['date'], top_days['cases'], color ='green', width = 0.5)\n",
    "plt.xlabel(\"Dates\")\n",
    "plt.ylabel(\"No. of cases\")\n",
    "plt.title(\"Top 10 COVID-19 cases days\")\n",
    "plt.show()\n",
    "#Saving in png format\n",
    "fig.savefig('Top_10_days.png')"
   ]
  }
 ],
 "metadata": {
  "kernelspec": {
   "display_name": "Python 3 (ipykernel)",
   "language": "python",
   "name": "python3"
  },
  "language_info": {
   "codemirror_mode": {
    "name": "ipython",
    "version": 3
   },
   "file_extension": ".py",
   "mimetype": "text/x-python",
   "name": "python",
   "nbconvert_exporter": "python",
   "pygments_lexer": "ipython3",
   "version": "3.9.6"
  }
 },
 "nbformat": 4,
 "nbformat_minor": 5
}
